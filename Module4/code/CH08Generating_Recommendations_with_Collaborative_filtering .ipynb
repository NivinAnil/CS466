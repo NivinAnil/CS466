{
  "nbformat": 4,
  "nbformat_minor": 0,
  "metadata": {
    "colab": {
      "name": "CH08Generating_Recommendations_with_Collaborative_filtering .ipynb",
      "provenance": [],
      "collapsed_sections": [
        "pD945Miei5AI"
      ]
    },
    "language_info": {
      "name": "python"
    },
    "kernelspec": {
      "name": "python3",
      "display_name": "Python 3"
    }
  },
  "cells": [
    {
      "cell_type": "markdown",
      "metadata": {
        "id": "YcAOocoii4_z"
      },
      "source": [
        "#Generating Recommendations with Collaborative filtering "
      ]
    },
    {
      "cell_type": "code",
      "metadata": {
        "id": "80-pfAWGi4_1"
      },
      "source": [
        "%matplotlib inline\n",
        "import numpy as np\n",
        "import pandas as pd\n",
        "import matplotlib.pyplot as plt\n",
        "from math import sqrt\n",
        "from scipy.stats.stats import pearsonr  "
      ],
      "execution_count": 1,
      "outputs": []
    },
    {
      "cell_type": "markdown",
      "metadata": {
        "id": "meie-weoi4_2"
      },
      "source": [
        "##Recommendations Data"
      ]
    },
    {
      "cell_type": "markdown",
      "metadata": {
        "id": "xw4DBDO1i4_3"
      },
      "source": [
        "We are going to use set of users who have given ratings to the movies of their choice. The following is a dict object containg the different users as keys and their values are a dictionary of movies with each movie's value being the rating given by the user"
      ]
    },
    {
      "cell_type": "code",
      "metadata": {
        "colab": {
          "base_uri": "https://localhost:8080/"
        },
        "id": "s_YfnQdWi4_4",
        "outputId": "41589066-6cdf-4932-a4b8-2822ed0931eb"
      },
      "source": [
        "movie_user_preferences={'Jill': {'Avenger: Age of Ultron': 7.0,\n",
        "  'Django Unchained': 6.5,\n",
        "  'Gone Girl': 9.0,\n",
        "  'Kill the Messenger': 8.0},\n",
        " 'Julia': {'Avenger: Age of Ultron': 10.0,\n",
        "  'Django Unchained': 6.0,\n",
        "  'Gone Girl': 6.5,\n",
        "  'Kill the Messenger': 6.0,\n",
        "  'Zoolander': 6.5},\n",
        " 'Max': {'Avenger: Age of Ultron': 7.0,\n",
        "  'Django Unchained': 7.0,\n",
        "  'Gone Girl': 10.0,\n",
        "  'Horrible Bosses 2': 6.0,\n",
        "  'Kill the Messenger': 5.0,\n",
        "  'Zoolander': 10.0},\n",
        " 'Robert': {'Avenger: Age of Ultron': 8.0,\n",
        "  'Django Unchained': 7.0,\n",
        "  'Horrible Bosses 2': 5.0,\n",
        "  'Kill the Messenger': 9.0,\n",
        "  'Zoolander': 9.0},\n",
        " 'Sam': {'Avenger: Age of Ultron': 10.0,\n",
        "  'Django Unchained': 7.5,\n",
        "  'Gone Girl': 6.0,\n",
        "  'Horrible Bosses 2': 3.0,\n",
        "  'Kill the Messenger': 5.5,\n",
        "  'Zoolander': 7.0},\n",
        " 'Toby': {'Avenger: Age of Ultron': 8.5,\n",
        "  'Django Unchained': 9.0,\n",
        "  'Zoolander': 2.0},\n",
        " 'William': {'Avenger: Age of Ultron': 6.0,\n",
        "  'Django Unchained': 8.0,\n",
        "  'Gone Girl': 7.0,\n",
        "  'Horrible Bosses 2': 4.0,\n",
        "  'Kill the Messenger': 6.5,\n",
        "  'Zoolander': 4.0}}\n",
        "\n",
        "movie_user_preferences['William']['Gone Girl']"
      ],
      "execution_count": 2,
      "outputs": [
        {
          "output_type": "execute_result",
          "data": {
            "text/plain": [
              "7.0"
            ]
          },
          "metadata": {
            "tags": []
          },
          "execution_count": 2
        }
      ]
    },
    {
      "cell_type": "markdown",
      "metadata": {
        "id": "svBT1aUji4_6"
      },
      "source": [
        "##User Based Collaborative Fitlering"
      ]
    },
    {
      "cell_type": "markdown",
      "metadata": {
        "id": "GuEcLNDci4_6"
      },
      "source": [
        "Lets start to build a user based collaborative filtering by finding users who are similar to each other"
      ]
    },
    {
      "cell_type": "markdown",
      "metadata": {
        "id": "CofmSlFdi4_7"
      },
      "source": [
        "###Finding similar users"
      ]
    },
    {
      "cell_type": "markdown",
      "metadata": {
        "id": "TmQ5G6x4i4_8"
      },
      "source": [
        "When you have the data about what people like, you need a way to determine the similarity between the different users. The similarity between the different users is determined by comparing each user with every other user and computing a similarity score. This similarity score can be computed using the Pearson correlation, Euclidean Distance, Manhattan Distance etc. "
      ]
    },
    {
      "cell_type": "markdown",
      "metadata": {
        "id": "BrVoAO4zi4_9"
      },
      "source": [
        "####Euclidean Distance Score"
      ]
    },
    {
      "cell_type": "markdown",
      "metadata": {
        "id": "hdGZQUOci4_9"
      },
      "source": [
        "Euclidean distance is the minimum distance between two points in space. Let's try to understand this by plotting the users who have watched Gone Girl and Avengers"
      ]
    },
    {
      "cell_type": "code",
      "metadata": {
        "colab": {
          "base_uri": "https://localhost:8080/",
          "height": 266
        },
        "id": "Fgh3X6Xri4_-",
        "outputId": "5c67752c-9dad-4a8a-8eae-875dc077a850"
      },
      "source": [
        "data = []\n",
        "for i in movie_user_preferences.keys():\n",
        "    try:\n",
        "        data.append( (i\n",
        "        ,movie_user_preferences[i]['Django Unchained']\n",
        "        ,movie_user_preferences[i]['Avenger: Age of Ultron']) )\n",
        "    except:\n",
        "        pass\n",
        "        \n",
        "    \n",
        "df = pd.DataFrame(data = data, columns = ['user', 'django', 'avenger'])\n",
        "df"
      ],
      "execution_count": 3,
      "outputs": [
        {
          "output_type": "execute_result",
          "data": {
            "text/html": [
              "<div>\n",
              "<style scoped>\n",
              "    .dataframe tbody tr th:only-of-type {\n",
              "        vertical-align: middle;\n",
              "    }\n",
              "\n",
              "    .dataframe tbody tr th {\n",
              "        vertical-align: top;\n",
              "    }\n",
              "\n",
              "    .dataframe thead th {\n",
              "        text-align: right;\n",
              "    }\n",
              "</style>\n",
              "<table border=\"1\" class=\"dataframe\">\n",
              "  <thead>\n",
              "    <tr style=\"text-align: right;\">\n",
              "      <th></th>\n",
              "      <th>user</th>\n",
              "      <th>django</th>\n",
              "      <th>avenger</th>\n",
              "    </tr>\n",
              "  </thead>\n",
              "  <tbody>\n",
              "    <tr>\n",
              "      <th>0</th>\n",
              "      <td>Jill</td>\n",
              "      <td>6.5</td>\n",
              "      <td>7.0</td>\n",
              "    </tr>\n",
              "    <tr>\n",
              "      <th>1</th>\n",
              "      <td>Julia</td>\n",
              "      <td>6.0</td>\n",
              "      <td>10.0</td>\n",
              "    </tr>\n",
              "    <tr>\n",
              "      <th>2</th>\n",
              "      <td>Max</td>\n",
              "      <td>7.0</td>\n",
              "      <td>7.0</td>\n",
              "    </tr>\n",
              "    <tr>\n",
              "      <th>3</th>\n",
              "      <td>Robert</td>\n",
              "      <td>7.0</td>\n",
              "      <td>8.0</td>\n",
              "    </tr>\n",
              "    <tr>\n",
              "      <th>4</th>\n",
              "      <td>Sam</td>\n",
              "      <td>7.5</td>\n",
              "      <td>10.0</td>\n",
              "    </tr>\n",
              "    <tr>\n",
              "      <th>5</th>\n",
              "      <td>Toby</td>\n",
              "      <td>9.0</td>\n",
              "      <td>8.5</td>\n",
              "    </tr>\n",
              "    <tr>\n",
              "      <th>6</th>\n",
              "      <td>William</td>\n",
              "      <td>8.0</td>\n",
              "      <td>6.0</td>\n",
              "    </tr>\n",
              "  </tbody>\n",
              "</table>\n",
              "</div>"
            ],
            "text/plain": [
              "      user  django  avenger\n",
              "0     Jill     6.5      7.0\n",
              "1    Julia     6.0     10.0\n",
              "2      Max     7.0      7.0\n",
              "3   Robert     7.0      8.0\n",
              "4      Sam     7.5     10.0\n",
              "5     Toby     9.0      8.5\n",
              "6  William     8.0      6.0"
            ]
          },
          "metadata": {
            "tags": []
          },
          "execution_count": 3
        }
      ]
    },
    {
      "cell_type": "code",
      "metadata": {
        "colab": {
          "base_uri": "https://localhost:8080/",
          "height": 279
        },
        "id": "wAL7lbjzi4__",
        "outputId": "d3dcede5-3044-4ac4-a4fa-35143d4d66b2"
      },
      "source": [
        "plt.scatter(df.django, df.avenger)\n",
        "plt.xlabel('Django')\n",
        "plt.ylabel('Avengers')\n",
        "for i,txt in enumerate(df.user):\n",
        "    plt.annotate(txt, (df.django[i],df.avenger[i]))\n",
        "plt.show()"
      ],
      "execution_count": 4,
      "outputs": [
        {
          "output_type": "display_data",
          "data": {
            "image/png": "[encoded data removed]",
            "text/plain": [
              "<Figure size 432x288 with 1 Axes>"
            ]
          },
          "metadata": {
            "tags": [],
            "needs_background": "light"
          }
        }
      ]
    },
    {
      "cell_type": "markdown",
      "metadata": {
        "id": "7M2WY_2ui5AA"
      },
      "source": [
        "We can see that Jill and Toby are quite far from each other where as Robert and Max are quite close to each other. Let's compute the Euclidean distance between each other."
      ]
    },
    {
      "cell_type": "code",
      "metadata": {
        "colab": {
          "base_uri": "https://localhost:8080/"
        },
        "id": "a92mm-uEi5AB",
        "outputId": "f23e0870-5132-4cf8-8a4b-89fb37c8a900"
      },
      "source": [
        "#Euclidean distance between Jill and Toby\n",
        "sqrt(pow(8-7,2)+pow(9-6,2))"
      ],
      "execution_count": 5,
      "outputs": [
        {
          "output_type": "execute_result",
          "data": {
            "text/plain": [
              "3.1622776601683795"
            ]
          },
          "metadata": {
            "tags": []
          },
          "execution_count": 5
        }
      ]
    },
    {
      "cell_type": "code",
      "metadata": {
        "colab": {
          "base_uri": "https://localhost:8080/"
        },
        "id": "fqYvapXzi5AC",
        "outputId": "18cd18a9-379e-4c31-827c-baaf8ebec908"
      },
      "source": [
        "#Euclidean distance between Robert and Max\n",
        "sqrt(pow(8-7,2)+pow(7-7,2))"
      ],
      "execution_count": 6,
      "outputs": [
        {
          "output_type": "execute_result",
          "data": {
            "text/plain": [
              "1.0"
            ]
          },
          "metadata": {
            "tags": []
          },
          "execution_count": 6
        }
      ]
    },
    {
      "cell_type": "markdown",
      "metadata": {
        "id": "7dSsalxdi5AD"
      },
      "source": [
        "We can see that the further the user are away from each other, the euclidean distance is higher. We'll convert the euclidean distance to show that the higher values indicate more similarity. This can be done by inverting the euclidean distance and also adding one so that there is no divide by zero"
      ]
    },
    {
      "cell_type": "code",
      "metadata": {
        "colab": {
          "base_uri": "https://localhost:8080/"
        },
        "id": "Oinutl2Ji5AD",
        "outputId": "5e6a4b2c-9bf3-433a-b9c5-aa062cbf221a"
      },
      "source": [
        "#Similarity Score based on Euclidean distance between Jill and Toby\n",
        "1/(1 + sqrt(pow(8-7,2)+pow(9-6,2)) )"
      ],
      "execution_count": 7,
      "outputs": [
        {
          "output_type": "execute_result",
          "data": {
            "text/plain": [
              "0.2402530733520421"
            ]
          },
          "metadata": {
            "tags": []
          },
          "execution_count": 7
        }
      ]
    },
    {
      "cell_type": "code",
      "metadata": {
        "colab": {
          "base_uri": "https://localhost:8080/"
        },
        "id": "Ng9MHHY5i5AE",
        "outputId": "99127b6d-89b2-445e-9d66-ca01cd3c1e34"
      },
      "source": [
        "#Similarity Score based on Euclidean distance between Robert and Max\n",
        "1/(1 + sqrt(pow(8-7,2)+pow(7-7,2)) )"
      ],
      "execution_count": 8,
      "outputs": [
        {
          "output_type": "execute_result",
          "data": {
            "text/plain": [
              "0.5"
            ]
          },
          "metadata": {
            "tags": []
          },
          "execution_count": 8
        }
      ]
    },
    {
      "cell_type": "markdown",
      "metadata": {
        "id": "c38Ui7chi5AF"
      },
      "source": [
        "Let's create a function that calcuates the similarity score between two users"
      ]
    },
    {
      "cell_type": "code",
      "metadata": {
        "id": "lnwsfzvti5AF"
      },
      "source": [
        "# Returns a distance-based similarity score for person1 and person2\n",
        "def sim_distance(prefs,person1,person2):\n",
        "    # Get the list of shared_items\n",
        "    si={}\n",
        "    for item in prefs[person1]:\n",
        "        if item in prefs[person2]:\n",
        "            si[item]=1\n",
        "            \n",
        "    # if they have no ratings in common, return 0\n",
        "    if len(si)==0: return 0\n",
        "    \n",
        "    # Add up the squares of all the differences\n",
        "    sum_of_squares=sum([pow(prefs[person1][item]-prefs[person2][item],2)\n",
        "    for item in prefs[person1] if item in prefs[person2]])\n",
        "    \n",
        "    return 1/(1+sum_of_squares)"
      ],
      "execution_count": 9,
      "outputs": []
    },
    {
      "cell_type": "markdown",
      "metadata": {
        "id": "4VqcLE-ki5AG"
      },
      "source": [
        "Let's apply the above function to calculate the similarity score between Sam and Toby"
      ]
    },
    {
      "cell_type": "code",
      "metadata": {
        "colab": {
          "base_uri": "https://localhost:8080/"
        },
        "id": "nTnFNElAi5AH",
        "outputId": "92d65039-f8fa-4c10-a598-7b0256acee81"
      },
      "source": [
        "sim_distance(movie_user_preferences,'Sam','Toby')"
      ],
      "execution_count": 10,
      "outputs": [
        {
          "output_type": "execute_result",
          "data": {
            "text/plain": [
              "0.03278688524590164"
            ]
          },
          "metadata": {
            "tags": []
          },
          "execution_count": 10
        }
      ]
    },
    {
      "cell_type": "markdown",
      "metadata": {
        "id": "pD945Miei5AI"
      },
      "source": [
        "####Pearson Correlation Score"
      ]
    },
    {
      "cell_type": "markdown",
      "metadata": {
        "id": "53Y4XhNZi5AJ"
      },
      "source": [
        "We have already studied what is peasron correlation in chapter 2. We'll use pearson correlation to compute the similiarity score between two users.\n",
        "\n",
        "Lets see how Sam and Toby are correlated to each other"
      ]
    },
    {
      "cell_type": "code",
      "metadata": {
        "colab": {
          "base_uri": "https://localhost:8080/",
          "height": 0
        },
        "id": "cwxi8Vdzi5AJ",
        "outputId": "67001a39-ae42-4be1-8b85-da9de1103eb8"
      },
      "source": [
        "def create_movie_user_df(input_data, user1, user2):\n",
        "    data = []\n",
        "    for movie in input_data[user1].keys():\n",
        "        if movie in input_data[user2].keys():\n",
        "            try:\n",
        "                data.append( (movie\n",
        "                ,input_data[user1][movie]\n",
        "                ,input_data[user2][movie]) )\n",
        "            except:\n",
        "                pass\n",
        "            \n",
        "        \n",
        "    return pd.DataFrame(data = data, columns = ['movie', user1, user2])\n",
        "\n",
        "df = create_movie_user_df(movie_user_preferences, 'Sam', 'William')\n",
        "df"
      ],
      "execution_count": 11,
      "outputs": [
        {
          "output_type": "execute_result",
          "data": {
            "text/html": [
              "<div>\n",
              "<style scoped>\n",
              "    .dataframe tbody tr th:only-of-type {\n",
              "        vertical-align: middle;\n",
              "    }\n",
              "\n",
              "    .dataframe tbody tr th {\n",
              "        vertical-align: top;\n",
              "    }\n",
              "\n",
              "    .dataframe thead th {\n",
              "        text-align: right;\n",
              "    }\n",
              "</style>\n",
              "<table border=\"1\" class=\"dataframe\">\n",
              "  <thead>\n",
              "    <tr style=\"text-align: right;\">\n",
              "      <th></th>\n",
              "      <th>movie</th>\n",
              "      <th>Sam</th>\n",
              "      <th>William</th>\n",
              "    </tr>\n",
              "  </thead>\n",
              "  <tbody>\n",
              "    <tr>\n",
              "      <th>0</th>\n",
              "      <td>Avenger: Age of Ultron</td>\n",
              "      <td>10.0</td>\n",
              "      <td>6.0</td>\n",
              "    </tr>\n",
              "    <tr>\n",
              "      <th>1</th>\n",
              "      <td>Django Unchained</td>\n",
              "      <td>7.5</td>\n",
              "      <td>8.0</td>\n",
              "    </tr>\n",
              "    <tr>\n",
              "      <th>2</th>\n",
              "      <td>Gone Girl</td>\n",
              "      <td>6.0</td>\n",
              "      <td>7.0</td>\n",
              "    </tr>\n",
              "    <tr>\n",
              "      <th>3</th>\n",
              "      <td>Horrible Bosses 2</td>\n",
              "      <td>3.0</td>\n",
              "      <td>4.0</td>\n",
              "    </tr>\n",
              "    <tr>\n",
              "      <th>4</th>\n",
              "      <td>Kill the Messenger</td>\n",
              "      <td>5.5</td>\n",
              "      <td>6.5</td>\n",
              "    </tr>\n",
              "    <tr>\n",
              "      <th>5</th>\n",
              "      <td>Zoolander</td>\n",
              "      <td>7.0</td>\n",
              "      <td>4.0</td>\n",
              "    </tr>\n",
              "  </tbody>\n",
              "</table>\n",
              "</div>"
            ],
            "text/plain": [
              "                    movie   Sam  William\n",
              "0  Avenger: Age of Ultron  10.0      6.0\n",
              "1        Django Unchained   7.5      8.0\n",
              "2               Gone Girl   6.0      7.0\n",
              "3       Horrible Bosses 2   3.0      4.0\n",
              "4      Kill the Messenger   5.5      6.5\n",
              "5               Zoolander   7.0      4.0"
            ]
          },
          "metadata": {
            "tags": []
          },
          "execution_count": 11
        }
      ]
    },
    {
      "cell_type": "code",
      "metadata": {
        "colab": {
          "base_uri": "https://localhost:8080/",
          "height": 0
        },
        "id": "RG0JGO8ti5AK",
        "outputId": "ea0f81ec-8de7-46de-9cf1-1e36fa1f0e80"
      },
      "source": [
        "plt.scatter(df.Sam, df.William)\n",
        "plt.xlabel('Sam')\n",
        "plt.ylabel('William')\n",
        "for i,txt in enumerate(df.movie):\n",
        "    plt.annotate(txt, (df.Sam[i],df.William[i]))\n",
        "plt.show()"
      ],
      "execution_count": 12,
      "outputs": [
        {
          "output_type": "display_data",
          "data": {
            "image/png": "[encoded data removed]",
            "text/plain": [
              "<Figure size 432x288 with 1 Axes>"
            ]
          },
          "metadata": {
            "tags": [],
            "needs_background": "light"
          }
        }
      ]
    },
    {
      "cell_type": "markdown",
      "metadata": {
        "id": "KNq01rqwi5AL"
      },
      "source": [
        "Let's compute the pearson correlation between Sam and William"
      ]
    },
    {
      "cell_type": "code",
      "metadata": {
        "colab": {
          "base_uri": "https://localhost:8080/"
        },
        "id": "4bf7-R8yi5AM",
        "outputId": "4746c254-3c5a-4d71-8743-7b38f394a834"
      },
      "source": [
        "pearsonr(df.Sam,df.William)"
      ],
      "execution_count": 13,
      "outputs": [
        {
          "output_type": "execute_result",
          "data": {
            "text/plain": [
              "(0.3706740197017842, 0.4694541326841095)"
            ]
          },
          "metadata": {
            "tags": []
          },
          "execution_count": 13
        }
      ]
    },
    {
      "cell_type": "markdown",
      "metadata": {
        "id": "05xrbzvRi5AM"
      },
      "source": [
        "Let's see the scatter plot between "
      ]
    },
    {
      "cell_type": "code",
      "metadata": {
        "colab": {
          "base_uri": "https://localhost:8080/",
          "height": 0
        },
        "id": "iqAyTJ_Ki5AN",
        "outputId": "40debce7-a5fb-4ab2-c53e-259717c846ee"
      },
      "source": [
        "df = create_movie_user_df(movie_user_preferences, 'Sam', 'Julia')\n",
        "df\n",
        "\n",
        "plt.scatter(df.Sam, df.Julia)\n",
        "plt.xlabel('Sam')\n",
        "plt.ylabel('Julia')\n",
        "for i,txt in enumerate(df.movie):\n",
        "    plt.annotate(txt, (df.Sam[i],df.Julia[i]))\n",
        "plt.show()"
      ],
      "execution_count": 14,
      "outputs": [
        {
          "output_type": "display_data",
          "data": {
            "image/png": "[encoded data removed]",
            "text/plain": [
              "<Figure size 432x288 with 1 Axes>"
            ]
          },
          "metadata": {
            "tags": [],
            "needs_background": "light"
          }
        }
      ]
    },
    {
      "cell_type": "markdown",
      "metadata": {
        "id": "6g4FO7Hfi5AO"
      },
      "source": [
        "Let's compute the pearson correlation Sam and Julia"
      ]
    },
    {
      "cell_type": "code",
      "metadata": {
        "colab": {
          "base_uri": "https://localhost:8080/"
        },
        "id": "qZ8cpOg3i5AO",
        "outputId": "37dfbdfb-1d4b-4175-a770-b8b95397fb02"
      },
      "source": [
        "pearsonr(df.Sam,df.Julia)"
      ],
      "execution_count": 15,
      "outputs": [
        {
          "output_type": "execute_result",
          "data": {
            "text/plain": [
              "(0.8828518332602512, 0.047277507003439405)"
            ]
          },
          "metadata": {
            "tags": []
          },
          "execution_count": 15
        }
      ]
    },
    {
      "cell_type": "markdown",
      "metadata": {
        "id": "n2XHxrMRi5AP"
      },
      "source": [
        "We can see that Sam and Julia are very similar to each other"
      ]
    },
    {
      "cell_type": "code",
      "metadata": {
        "id": "e4f9acEbi5AQ"
      },
      "source": [
        "# Returns the Pearson correlation coefficient for p1 and p2\n",
        "def sim_pearson(prefs,p1,p2):\n",
        "    # Get the list of mutually rated items\n",
        "    si={}\n",
        "    for item in prefs[p1]:\n",
        "        if item in prefs[p2]: si[item]=1\n",
        "            \n",
        "    # Find the number of elements\n",
        "    n=len(si)\n",
        "    \n",
        "    # if they are no ratings in common, return 0\n",
        "    if n==0: return 0\n",
        "    \n",
        "    # Add up all the preferences\n",
        "    sum1=sum([prefs[p1][it] for it in si])\n",
        "    sum2=sum([prefs[p2][it] for it in si])\n",
        "    \n",
        "    # Sum up the squares\n",
        "    sum1Sq=sum([pow(prefs[p1][it],2) for it in si])\n",
        "    sum2Sq=sum([pow(prefs[p2][it],2) for it in si])\n",
        "    \n",
        "    # Sum up the products\n",
        "    pSum=sum([prefs[p1][it]*prefs[p2][it] for it in si])\n",
        "    \n",
        "    # Calculate Pearson score\n",
        "    num=pSum-(sum1*sum2/n)\n",
        "    den=sqrt((sum1Sq-pow(sum1,2)/n)*(sum2Sq-pow(sum2,2)/n))\n",
        "    if den==0: return 0\n",
        "    \n",
        "    r=num/den\n",
        "    \n",
        "    return r\n"
      ],
      "execution_count": 16,
      "outputs": []
    },
    {
      "cell_type": "markdown",
      "metadata": {
        "id": "DevG64lii5AR"
      },
      "source": [
        "Let's compute the pearson correlation between Sam and Julia using the above function and verify if its computing correctly"
      ]
    },
    {
      "cell_type": "code",
      "metadata": {
        "colab": {
          "base_uri": "https://localhost:8080/"
        },
        "id": "q0sU4v1Gi5AR",
        "outputId": "d3f74ec7-99a7-4161-d1e8-25f8a48f38a4"
      },
      "source": [
        "sim_pearson(movie_user_preferences,'Sam','Julia')"
      ],
      "execution_count": 17,
      "outputs": [
        {
          "output_type": "execute_result",
          "data": {
            "text/plain": [
              "0.8828518332602507"
            ]
          },
          "metadata": {
            "tags": []
          },
          "execution_count": 17
        }
      ]
    },
    {
      "cell_type": "markdown",
      "metadata": {
        "id": "elS343ugi5AS"
      },
      "source": [
        "###Ranking the users"
      ]
    },
    {
      "cell_type": "markdown",
      "metadata": {
        "id": "ACIClZIci5AS"
      },
      "source": [
        "Once we have the methods of computing the similarity between the users, we then proceed to the rank the users based on the similarity between a particular user. I would like to know who are the people who are most similar to me. We can achieve this with the following code "
      ]
    },
    {
      "cell_type": "code",
      "metadata": {
        "id": "AuEg6HLji5AT"
      },
      "source": [
        "def topMatches(prefs,person,n=5,similarity=sim_pearson):\n",
        "    scores=[(similarity(prefs,person,other),other)\n",
        "        for other in prefs if other!=person]\n",
        "    \n",
        "    # Sort the list so the highest scores appear at the top\n",
        "    scores.sort( )\n",
        "    scores.reverse( )\n",
        "    return scores[0:n]"
      ],
      "execution_count": 18,
      "outputs": []
    },
    {
      "cell_type": "markdown",
      "metadata": {
        "id": "rdqA-5Omi5AT"
      },
      "source": [
        "Let's see who are top 3 people who are similar to Sam"
      ]
    },
    {
      "cell_type": "code",
      "metadata": {
        "colab": {
          "base_uri": "https://localhost:8080/"
        },
        "id": "adDvDjWPi5AU",
        "outputId": "5f75c4b3-2440-4c39-e61e-7b814b3d0a37"
      },
      "source": [
        "topMatches(movie_user_preferences,'Toby', n = 3, similarity = sim_distance)"
      ],
      "execution_count": 19,
      "outputs": [
        {
          "output_type": "execute_result",
          "data": {
            "text/plain": [
              "[(0.10526315789473684, 'Jill'),\n",
              " (0.08163265306122448, 'William'),\n",
              " (0.03278688524590164, 'Sam')]"
            ]
          },
          "metadata": {
            "tags": []
          },
          "execution_count": 19
        }
      ]
    },
    {
      "cell_type": "markdown",
      "metadata": {
        "id": "s1AMApnEi5AU"
      },
      "source": [
        "###Recommending Items"
      ]
    },
    {
      "cell_type": "markdown",
      "metadata": {
        "id": "RLwvJNwZi5AV"
      },
      "source": [
        "Once you know who are similar to you, you would now like to know which are the movies that should be recommended. The following shows how to compute a score for the movies so that we can know which is the most recommended movie"
      ]
    },
    {
      "cell_type": "markdown",
      "metadata": {
        "id": "60Fjb87Ii5AV"
      },
      "source": [
        "<img src=\"files/images/similiarity.png\">"
      ]
    },
    {
      "cell_type": "markdown",
      "metadata": {
        "id": "0Hk43Frfi5AV"
      },
      "source": [
        "We multiply the similiarity score of with the movie ratings of each of the user. We then sum this new score and then divide with the applicable similiarity score. In summary, we are taking weighted average based on the similiarity score.\n",
        "\n",
        "From the above, we can see that Gone Girl has a very good score to be recommended and then followed by Kill the Messenger"
      ]
    },
    {
      "cell_type": "markdown",
      "metadata": {
        "id": "tX5cJnM-i5AW"
      },
      "source": [
        "We'll now create a function which will generate recommendations for a user by encompassing the above logic"
      ]
    },
    {
      "cell_type": "code",
      "metadata": {
        "id": "472UXYBEi5AW"
      },
      "source": [
        "# Gets recommendations for a person by using a weighted average\n",
        "# of every other user's rankings\n",
        "def getRecommendations(prefs,person,similarity=sim_pearson):\n",
        "    totals={}\n",
        "    simSums={}\n",
        "    for other in prefs:\n",
        "        # don't compare me to myself\n",
        "        if other==person: continue\n",
        "        sim=similarity(prefs,person,other)\n",
        "        \n",
        "        # ignore scores of zero or lower\n",
        "        if sim<=0: continue\n",
        "        for item in prefs[other]:\n",
        "            \n",
        "            # only score movies I haven't seen yet\n",
        "            if item not in prefs[person] or prefs[person][item]==0:\n",
        "                # Similarity * Score\n",
        "                totals.setdefault(item,0)\n",
        "                totals[item]+=prefs[other][item]*sim\n",
        "                # Sum of similarities\n",
        "                simSums.setdefault(item,0)\n",
        "                simSums[item]+=sim\n",
        "                \n",
        "    # Create the normalized list\n",
        "    rankings=[(total/simSums[item],item) for item,total in totals.items( )]\n",
        "    \n",
        "    # Return the sorted list\n",
        "    rankings.sort( )\n",
        "    rankings.reverse( )\n",
        "    return rankings"
      ],
      "execution_count": 20,
      "outputs": []
    },
    {
      "cell_type": "markdown",
      "metadata": {
        "id": "UZKx_GdXi5AY"
      },
      "source": [
        "Let's get the recommendation using the above function"
      ]
    },
    {
      "cell_type": "code",
      "metadata": {
        "colab": {
          "base_uri": "https://localhost:8080/"
        },
        "id": "Fm_fdr2Ti5AZ",
        "outputId": "f0321013-5293-4fa0-b2b7-c8745a6c81c0"
      },
      "source": [
        "getRecommendations(movie_user_preferences,'Toby')"
      ],
      "execution_count": 21,
      "outputs": [
        {
          "output_type": "execute_result",
          "data": {
            "text/plain": [
              "[(6.587965809121004, 'Gone Girl'),\n",
              " (6.087965809121004, 'Kill the Messenger'),\n",
              " (3.608127720528246, 'Horrible Bosses 2')]"
            ]
          },
          "metadata": {
            "tags": []
          },
          "execution_count": 21
        }
      ]
    },
    {
      "cell_type": "code",
      "metadata": {
        "colab": {
          "base_uri": "https://localhost:8080/"
        },
        "id": "hJ7nEB_ci5AZ",
        "outputId": "acdc2b00-7ed2-4172-a453-92a13a8cf3c9"
      },
      "source": [
        "getRecommendations(movie_user_preferences,'Toby', similarity = sim_distance)"
      ],
      "execution_count": 22,
      "outputs": [
        {
          "output_type": "execute_result",
          "data": {
            "text/plain": [
              "[(7.773043918833565, 'Gone Girl'),\n",
              " (6.976295282563891, 'Kill the Messenger'),\n",
              " (4.093380589669568, 'Horrible Bosses 2')]"
            ]
          },
          "metadata": {
            "tags": []
          },
          "execution_count": 22
        }
      ]
    },
    {
      "cell_type": "markdown",
      "metadata": {
        "id": "uo06oIcui5Aa"
      },
      "source": [
        "We now have created a User based collaborative filtering"
      ]
    },
    {
      "cell_type": "markdown",
      "metadata": {
        "id": "efTFMyDMi5Ab"
      },
      "source": [
        "##Item Based Collaborative Filtering"
      ]
    },
    {
      "cell_type": "markdown",
      "metadata": {
        "id": "ZHSw-4Iai5Ab"
      },
      "source": [
        "User based collaborative filtering finds the similiarity between users and then using the items in among the similar user, recommendation is made. \n",
        "\n",
        "Item based collaborative filtering finds the similiarity between the items. This is then used to find the new recommendations for a user\n",
        "\n",
        "To begin with the Item based collaborative filtering, we'll first have to invert our dataset by putting the movies as the 1st layer followed by the users as the 2nd layer"
      ]
    },
    {
      "cell_type": "code",
      "metadata": {
        "colab": {
          "base_uri": "https://localhost:8080/"
        },
        "id": "R4wPQgQZi5Ab",
        "outputId": "c5cea9c7-cc91-47eb-b453-75581b4f2b1d"
      },
      "source": [
        "def transformPrefs(prefs):\n",
        "    result={}\n",
        "    for person in prefs:\n",
        "        for item in prefs[person]:\n",
        "            result.setdefault(item,{})\n",
        "            \n",
        "            # Flip item and person\n",
        "            result[item][person]=prefs[person][item]\n",
        "    return result\n",
        "\n",
        "transformPrefs(movie_user_preferences)"
      ],
      "execution_count": 23,
      "outputs": [
        {
          "output_type": "execute_result",
          "data": {
            "text/plain": [
              "{'Avenger: Age of Ultron': {'Jill': 7.0,\n",
              "  'Julia': 10.0,\n",
              "  'Max': 7.0,\n",
              "  'Robert': 8.0,\n",
              "  'Sam': 10.0,\n",
              "  'Toby': 8.5,\n",
              "  'William': 6.0},\n",
              " 'Django Unchained': {'Jill': 6.5,\n",
              "  'Julia': 6.0,\n",
              "  'Max': 7.0,\n",
              "  'Robert': 7.0,\n",
              "  'Sam': 7.5,\n",
              "  'Toby': 9.0,\n",
              "  'William': 8.0},\n",
              " 'Gone Girl': {'Jill': 9.0,\n",
              "  'Julia': 6.5,\n",
              "  'Max': 10.0,\n",
              "  'Sam': 6.0,\n",
              "  'William': 7.0},\n",
              " 'Horrible Bosses 2': {'Max': 6.0, 'Robert': 5.0, 'Sam': 3.0, 'William': 4.0},\n",
              " 'Kill the Messenger': {'Jill': 8.0,\n",
              "  'Julia': 6.0,\n",
              "  'Max': 5.0,\n",
              "  'Robert': 9.0,\n",
              "  'Sam': 5.5,\n",
              "  'William': 6.5},\n",
              " 'Zoolander': {'Julia': 6.5,\n",
              "  'Max': 10.0,\n",
              "  'Robert': 9.0,\n",
              "  'Sam': 7.0,\n",
              "  'Toby': 2.0,\n",
              "  'William': 4.0}}"
            ]
          },
          "metadata": {
            "tags": []
          },
          "execution_count": 23
        }
      ]
    },
    {
      "cell_type": "markdown",
      "metadata": {
        "id": "PNxLvVV1i5Ac"
      },
      "source": [
        "Now we would like to find the similar movies for each of the movies"
      ]
    },
    {
      "cell_type": "code",
      "metadata": {
        "colab": {
          "base_uri": "https://localhost:8080/"
        },
        "id": "paAAGspri5Ad",
        "outputId": "c1c2faf8-9aa3-45f0-cb2b-8826e292c0ff"
      },
      "source": [
        "def calculateSimilarItems(prefs,n=10):\n",
        "    # Create a dictionary of items showing which other items they\n",
        "    # are most similar to.\n",
        "    result={}\n",
        "    \n",
        "    # Invert the preference matrix to be item-centric\n",
        "    itemPrefs=transformPrefs(prefs)\n",
        "    c=0\n",
        "    for item in itemPrefs:\n",
        "        # Status updates for large datasets\n",
        "        c+=1\n",
        "        if c%100==0: print (\"%d / %d\" % (c,len(itemPrefs)))\n",
        "        # Find the most similar items to this one\n",
        "        scores=topMatches(itemPrefs,item,n=n,similarity=sim_distance)\n",
        "        result[item]=scores\n",
        "    return result\n",
        "\n",
        "itemsim=calculateSimilarItems(movie_user_preferences)\n",
        "itemsim"
      ],
      "execution_count": 28,
      "outputs": [
        {
          "output_type": "execute_result",
          "data": {
            "text/plain": [
              "{'Avenger: Age of Ultron': [(0.034782608695652174, 'Django Unchained'),\n",
              "  (0.023121387283236993, 'Gone Girl'),\n",
              "  (0.022988505747126436, 'Kill the Messenger'),\n",
              "  (0.015625, 'Horrible Bosses 2'),\n",
              "  (0.012738853503184714, 'Zoolander')],\n",
              " 'Django Unchained': [(0.05714285714285714, 'Kill the Messenger'),\n",
              "  (0.05063291139240506, 'Gone Girl'),\n",
              "  (0.034782608695652174, 'Avenger: Age of Ultron'),\n",
              "  (0.023668639053254437, 'Horrible Bosses 2'),\n",
              "  (0.012578616352201259, 'Zoolander')],\n",
              " 'Gone Girl': [(0.09090909090909091, 'Zoolander'),\n",
              "  (0.05063291139240506, 'Django Unchained'),\n",
              "  (0.036036036036036036, 'Kill the Messenger'),\n",
              "  (0.02857142857142857, 'Horrible Bosses 2'),\n",
              "  (0.023121387283236993, 'Avenger: Age of Ultron')],\n",
              " 'Horrible Bosses 2': [(0.03278688524590164, 'Kill the Messenger'),\n",
              "  (0.02857142857142857, 'Gone Girl'),\n",
              "  (0.023668639053254437, 'Django Unchained'),\n",
              "  (0.02040816326530612, 'Zoolander'),\n",
              "  (0.015625, 'Avenger: Age of Ultron')],\n",
              " 'Kill the Messenger': [(0.05714285714285714, 'Django Unchained'),\n",
              "  (0.036036036036036036, 'Gone Girl'),\n",
              "  (0.03278688524590164, 'Horrible Bosses 2'),\n",
              "  (0.02877697841726619, 'Zoolander'),\n",
              "  (0.022988505747126436, 'Avenger: Age of Ultron')],\n",
              " 'Zoolander': [(0.09090909090909091, 'Gone Girl'),\n",
              "  (0.02877697841726619, 'Kill the Messenger'),\n",
              "  (0.02040816326530612, 'Horrible Bosses 2'),\n",
              "  (0.012738853503184714, 'Avenger: Age of Ultron'),\n",
              "  (0.012578616352201259, 'Django Unchained')]}"
            ]
          },
          "metadata": {
            "tags": []
          },
          "execution_count": 28
        }
      ]
    },
    {
      "cell_type": "markdown",
      "metadata": {
        "id": "ZOxBy7m7i5Ad"
      },
      "source": [
        "Once we have the similiarity between all the movies. We would like to generate the recommendations for a user. \n",
        "\n",
        "The table below shows the movies seen by Toby under the Movie column and the rating given by Toby. The movie columns are the similiarity of the movie with the ones seen by Toby. The columns with R as a prefix is the product of the Rating and similiarity score. \n",
        "\n",
        "Finally we normalize the values by summing the R prefixed column then divided by the sum of the similiarity score of the movie column.\n",
        "\n",
        "The Table below shows Kill The Messenger is the most recommended movie."
      ]
    },
    {
      "cell_type": "markdown",
      "metadata": {
        "id": "ENdp8igfi5Ae"
      },
      "source": [
        "<img src=\"files/images/similiarity2.png\">"
      ]
    },
    {
      "cell_type": "markdown",
      "metadata": {
        "id": "DfHKwQOVi5Ae"
      },
      "source": [
        "We would now like to generate the recommendations by encompassing the above logic"
      ]
    },
    {
      "cell_type": "code",
      "metadata": {
        "id": "gRGj-g5mi5Af"
      },
      "source": [
        "def getRecommendedItems(prefs,itemMatch,user):\n",
        "    userRatings=prefs[user]\n",
        "    scores={}\n",
        "    totalSim={}\n",
        "    \n",
        "    # Loop over items rated by this user\n",
        "    for (item,rating) in userRatings.items( ):\n",
        "        \n",
        "        # Loop over items similar to this one\n",
        "        for (similarity,item2) in itemMatch[item]:\n",
        "            \n",
        "            # Ignore if this user has already rated this item\n",
        "            if item2 in userRatings: continue\n",
        "                \n",
        "            # Weighted sum of rating times similarity\n",
        "            scores.setdefault(item2,0)\n",
        "            scores[item2]+=similarity*rating\n",
        "            \n",
        "            # Sum of all the similarities\n",
        "            totalSim.setdefault(item2,0)\n",
        "            totalSim[item2]+=similarity\n",
        "            \n",
        "    # Divide each total score by total weighting to get an average\n",
        "    rankings=[(score/totalSim[item],item) for item,score in scores.items( )]\n",
        "    \n",
        "    # Return the rankings from highest to lowest\n",
        "    rankings.sort( )\n",
        "    rankings.reverse( )\n",
        "    return rankings"
      ],
      "execution_count": 29,
      "outputs": []
    },
    {
      "cell_type": "markdown",
      "metadata": {
        "id": "GIyV8eV2i5Af"
      },
      "source": [
        "Let's generate recommendations for Toby using the Item Based Recommender"
      ]
    },
    {
      "cell_type": "code",
      "metadata": {
        "colab": {
          "base_uri": "https://localhost:8080/"
        },
        "id": "iuSPkA5ei5Ag",
        "outputId": "3683b13a-0e21-41a2-88a3-2fb1a493b6e3"
      },
      "source": [
        "getRecommendedItems(movie_user_preferences, itemsim,'Toby')"
      ],
      "execution_count": 30,
      "outputs": [
        {
          "output_type": "execute_result",
          "data": {
            "text/plain": [
              "[(7.044841200971884, 'Kill the Messenger'),\n",
              " (6.476296577225752, 'Horrible Bosses 2'),\n",
              " (5.0651585538275095, 'Gone Girl')]"
            ]
          },
          "metadata": {
            "tags": []
          },
          "execution_count": 30
        }
      ]
    }
  ]
}