{
  "nbformat": 4,
  "nbformat_minor": 0,
  "metadata": {
    "colab": {
      "name": "CH06Performing_predictions_with_Linear_Regression.ipynb",
      "provenance": [],
      "toc_visible": true
    },
    "language_info": {
      "name": "python"
    },
    "kernelspec": {
      "name": "python3",
      "display_name": "Python 3"
    }
  },
  "cells": [
    {
      "cell_type": "markdown",
      "metadata": {
        "id": "GQkhwH4HfQdo"
      },
      "source": [
        "#Performing predictions with Linear Regression"
      ]
    },
    {
      "cell_type": "markdown",
      "metadata": {
        "id": "ks3L295XfQdq"
      },
      "source": [
        "Registering in the required libraries"
      ]
    },
    {
      "cell_type": "code",
      "metadata": {
        "id": "RSV3mC-yfQdr"
      },
      "source": [
        "%matplotlib inline\n",
        "import numpy as np\n",
        "import pandas as pd\n",
        "from scipy import stats\n",
        "import matplotlib.pyplot as plt\n",
        "from sklearn import linear_model,feature_selection,preprocessing\n",
        "from sklearn.model_selection import train_test_split,cross_val_score\n",
        "import statsmodels.api as sm\n",
        "from statsmodels.tools.eval_measures import mse\n",
        "from statsmodels.tools.tools import add_constant\n",
        "from sklearn.metrics import mean_squared_error"
      ],
      "execution_count": 35,
      "outputs": []
    },
    {
      "cell_type": "markdown",
      "metadata": {
        "id": "IA3d3YTefQds"
      },
      "source": [
        "##Simple Linear Regression"
      ]
    },
    {
      "cell_type": "markdown",
      "metadata": {
        "id": "OZ6ubSIbfQdt"
      },
      "source": [
        "The following datasets contains the height and weight of a group of Men"
      ]
    },
    {
      "cell_type": "code",
      "metadata": {
        "id": "G1jKbyQsfQdu"
      },
      "source": [
        "sl_data = pd.read_csv('Mens_height_weight.csv')"
      ],
      "execution_count": 7,
      "outputs": []
    },
    {
      "cell_type": "markdown",
      "metadata": {
        "id": "QMMl4ickfQdv"
      },
      "source": [
        "Let's see the distribution of the height and weight"
      ]
    },
    {
      "cell_type": "code",
      "metadata": {
        "colab": {
          "base_uri": "https://localhost:8080/",
          "height": 279
        },
        "id": "M9aZBD5QfQdw",
        "outputId": "0af7275b-c30c-4032-b7c4-734dc8f95228"
      },
      "source": [
        "fig, ax = plt.subplots(1, 1)  \n",
        "ax.scatter(sl_data['Height'],sl_data['Weight'])\n",
        "ax.set_xlabel('Height')\n",
        "ax.set_ylabel('Weight')\n",
        "plt.show()\n"
      ],
      "execution_count": 8,
      "outputs": [
        {
          "output_type": "display_data",
          "data": {
            "image/png": "[encoded data removed]",
            "text/plain": [
              "<Figure size 432x288 with 1 Axes>"
            ]
          },
          "metadata": {
            "tags": [],
            "needs_background": "light"
          }
        }
      ]
    },
    {
      "cell_type": "code",
      "metadata": {
        "colab": {
          "base_uri": "https://localhost:8080/",
          "height": 111
        },
        "id": "an2xvREWfQdx",
        "outputId": "a64f6922-120b-436a-82a0-5a5ca85f1b10"
      },
      "source": [
        "sl_data.corr()"
      ],
      "execution_count": 9,
      "outputs": [
        {
          "output_type": "execute_result",
          "data": {
            "text/html": [
              "<div>\n",
              "<style scoped>\n",
              "    .dataframe tbody tr th:only-of-type {\n",
              "        vertical-align: middle;\n",
              "    }\n",
              "\n",
              "    .dataframe tbody tr th {\n",
              "        vertical-align: top;\n",
              "    }\n",
              "\n",
              "    .dataframe thead th {\n",
              "        text-align: right;\n",
              "    }\n",
              "</style>\n",
              "<table border=\"1\" class=\"dataframe\">\n",
              "  <thead>\n",
              "    <tr style=\"text-align: right;\">\n",
              "      <th></th>\n",
              "      <th>Height</th>\n",
              "      <th>Weight</th>\n",
              "    </tr>\n",
              "  </thead>\n",
              "  <tbody>\n",
              "    <tr>\n",
              "      <th>Height</th>\n",
              "      <td>1.000000</td>\n",
              "      <td>0.942603</td>\n",
              "    </tr>\n",
              "    <tr>\n",
              "      <th>Weight</th>\n",
              "      <td>0.942603</td>\n",
              "      <td>1.000000</td>\n",
              "    </tr>\n",
              "  </tbody>\n",
              "</table>\n",
              "</div>"
            ],
            "text/plain": [
              "          Height    Weight\n",
              "Height  1.000000  0.942603\n",
              "Weight  0.942603  1.000000"
            ]
          },
          "metadata": {
            "tags": []
          },
          "execution_count": 9
        }
      ]
    },
    {
      "cell_type": "markdown",
      "metadata": {
        "id": "OILNj7ScfQdy"
      },
      "source": [
        "We'll apply linear regression with keeping Weight as the dependent variable and x as the independent variable"
      ]
    },
    {
      "cell_type": "code",
      "metadata": {
        "colab": {
          "base_uri": "https://localhost:8080/",
          "height": 202
        },
        "id": "FShe8bJbfQdz",
        "outputId": "505b74df-6ad7-48ba-d71b-257667aef0f3"
      },
      "source": [
        "# Create linear regression object\n",
        "lm = linear_model.LinearRegression()\n",
        "\n",
        "# Train the model using the training sets\n",
        "lm.fit(sl_data.Height[:,np.newaxis], sl_data.Weight)\n",
        "\n",
        "\n",
        "print ('Intercept is ' + str(lm.intercept_) + '\\n')\n",
        "\n",
        "print ('Coefficient value of the height is ' + str(lm.coef_) + '\\n')\n",
        "\n",
        "pd.DataFrame(zip(sl_data.columns,lm.coef_), columns = ['features', 'estimatedCoefficients'])\n",
        "\n"
      ],
      "execution_count": 12,
      "outputs": [
        {
          "output_type": "stream",
          "text": [
            "Intercept is -99.2772096062735\n",
            "\n",
            "Coefficient value of the height is [1.00092142]\n",
            "\n"
          ],
          "name": "stdout"
        },
        {
          "output_type": "stream",
          "text": [
            "/usr/local/lib/python3.7/dist-packages/ipykernel_launcher.py:5: FutureWarning: Support for multi-dimensional indexing (e.g. `obj[:, None]`) is deprecated and will be removed in a future version.  Convert to a numpy array before indexing instead.\n",
            "  \"\"\"\n"
          ],
          "name": "stderr"
        },
        {
          "output_type": "execute_result",
          "data": {
            "text/html": [
              "<div>\n",
              "<style scoped>\n",
              "    .dataframe tbody tr th:only-of-type {\n",
              "        vertical-align: middle;\n",
              "    }\n",
              "\n",
              "    .dataframe tbody tr th {\n",
              "        vertical-align: top;\n",
              "    }\n",
              "\n",
              "    .dataframe thead th {\n",
              "        text-align: right;\n",
              "    }\n",
              "</style>\n",
              "<table border=\"1\" class=\"dataframe\">\n",
              "  <thead>\n",
              "    <tr style=\"text-align: right;\">\n",
              "      <th></th>\n",
              "      <th>features</th>\n",
              "      <th>estimatedCoefficients</th>\n",
              "    </tr>\n",
              "  </thead>\n",
              "  <tbody>\n",
              "    <tr>\n",
              "      <th>0</th>\n",
              "      <td>Height</td>\n",
              "      <td>1.000921</td>\n",
              "    </tr>\n",
              "  </tbody>\n",
              "</table>\n",
              "</div>"
            ],
            "text/plain": [
              "  features  estimatedCoefficients\n",
              "0   Height               1.000921"
            ]
          },
          "metadata": {
            "tags": []
          },
          "execution_count": 12
        }
      ]
    },
    {
      "cell_type": "markdown",
      "metadata": {
        "id": "Q-3WzZusfQd0"
      },
      "source": [
        "Plotting the regression line on the previous scatter plot"
      ]
    },
    {
      "cell_type": "code",
      "metadata": {
        "colab": {
          "base_uri": "https://localhost:8080/",
          "height": 333
        },
        "id": "YevCMJ-GfQd1",
        "outputId": "430068de-0c27-498d-d353-43736bdcb0eb"
      },
      "source": [
        "fig, ax = plt.subplots(1, 1)  \n",
        "ax.scatter(sl_data.Height,sl_data.Weight)\n",
        "ax.plot(sl_data.Height,lm.predict(sl_data.Height[:, np.newaxis]), color = 'red')\n",
        "ax.set_xlabel('Height')\n",
        "ax.set_ylabel('Weight')\n",
        "plt.show()\n"
      ],
      "execution_count": 13,
      "outputs": [
        {
          "output_type": "stream",
          "text": [
            "/usr/local/lib/python3.7/dist-packages/ipykernel_launcher.py:3: FutureWarning: Support for multi-dimensional indexing (e.g. `obj[:, None]`) is deprecated and will be removed in a future version.  Convert to a numpy array before indexing instead.\n",
            "  This is separate from the ipykernel package so we can avoid doing imports until\n"
          ],
          "name": "stderr"
        },
        {
          "output_type": "display_data",
          "data": {
            "image/png": "[encoded data removed]",
            "text/plain": [
              "<Figure size 432x288 with 1 Axes>"
            ]
          },
          "metadata": {
            "tags": [],
            "needs_background": "light"
          }
        }
      ]
    },
    {
      "cell_type": "markdown",
      "metadata": {
        "id": "sEZPzw2pfQd2"
      },
      "source": [
        "##Multiple Regression"
      ]
    },
    {
      "cell_type": "markdown",
      "metadata": {
        "id": "JvuBmLm1fQd2"
      },
      "source": [
        "To understand multiple regression, we'll be using the NBA data. The following are the field descriptions\n",
        "\n",
        "1. height = height in feet\n",
        "2. weight = weight in pounds\n",
        "3. success_field_goals = percent of successful field goals (out of 100 attempted)\n",
        "4. success_free_throws = percent of successful free throws (out of 100 attempted)\n",
        "5. avg_points_scored = average points scored per game"
      ]
    },
    {
      "cell_type": "code",
      "metadata": {
        "colab": {
          "base_uri": "https://localhost:8080/",
          "height": 297
        },
        "id": "RvRsYjxifQd3",
        "outputId": "dbfcc59c-be29-4dd3-9410-7e77e0a7aec8"
      },
      "source": [
        "b_data = pd.read_csv('basketball.csv')\n",
        "\n",
        "b_data.describe()"
      ],
      "execution_count": 14,
      "outputs": [
        {
          "output_type": "execute_result",
          "data": {
            "text/html": [
              "<div>\n",
              "<style scoped>\n",
              "    .dataframe tbody tr th:only-of-type {\n",
              "        vertical-align: middle;\n",
              "    }\n",
              "\n",
              "    .dataframe tbody tr th {\n",
              "        vertical-align: top;\n",
              "    }\n",
              "\n",
              "    .dataframe thead th {\n",
              "        text-align: right;\n",
              "    }\n",
              "</style>\n",
              "<table border=\"1\" class=\"dataframe\">\n",
              "  <thead>\n",
              "    <tr style=\"text-align: right;\">\n",
              "      <th></th>\n",
              "      <th>height</th>\n",
              "      <th>weight</th>\n",
              "      <th>success_field_goals</th>\n",
              "      <th>success_free_throws</th>\n",
              "      <th>avg_points_scored</th>\n",
              "    </tr>\n",
              "  </thead>\n",
              "  <tbody>\n",
              "    <tr>\n",
              "      <th>count</th>\n",
              "      <td>54.000000</td>\n",
              "      <td>54.000000</td>\n",
              "      <td>54.000000</td>\n",
              "      <td>54.000000</td>\n",
              "      <td>54.000000</td>\n",
              "    </tr>\n",
              "    <tr>\n",
              "      <th>mean</th>\n",
              "      <td>6.587037</td>\n",
              "      <td>209.907407</td>\n",
              "      <td>0.449111</td>\n",
              "      <td>0.741852</td>\n",
              "      <td>11.790741</td>\n",
              "    </tr>\n",
              "    <tr>\n",
              "      <th>std</th>\n",
              "      <td>0.458894</td>\n",
              "      <td>30.265036</td>\n",
              "      <td>0.056551</td>\n",
              "      <td>0.100146</td>\n",
              "      <td>5.899257</td>\n",
              "    </tr>\n",
              "    <tr>\n",
              "      <th>min</th>\n",
              "      <td>5.700000</td>\n",
              "      <td>105.000000</td>\n",
              "      <td>0.291000</td>\n",
              "      <td>0.244000</td>\n",
              "      <td>2.800000</td>\n",
              "    </tr>\n",
              "    <tr>\n",
              "      <th>25%</th>\n",
              "      <td>6.225000</td>\n",
              "      <td>185.000000</td>\n",
              "      <td>0.415250</td>\n",
              "      <td>0.713000</td>\n",
              "      <td>8.150000</td>\n",
              "    </tr>\n",
              "    <tr>\n",
              "      <th>50%</th>\n",
              "      <td>6.650000</td>\n",
              "      <td>212.500000</td>\n",
              "      <td>0.443500</td>\n",
              "      <td>0.753500</td>\n",
              "      <td>10.750000</td>\n",
              "    </tr>\n",
              "    <tr>\n",
              "      <th>75%</th>\n",
              "      <td>6.900000</td>\n",
              "      <td>235.000000</td>\n",
              "      <td>0.483500</td>\n",
              "      <td>0.795250</td>\n",
              "      <td>13.600000</td>\n",
              "    </tr>\n",
              "    <tr>\n",
              "      <th>max</th>\n",
              "      <td>7.600000</td>\n",
              "      <td>263.000000</td>\n",
              "      <td>0.599000</td>\n",
              "      <td>0.900000</td>\n",
              "      <td>27.400000</td>\n",
              "    </tr>\n",
              "  </tbody>\n",
              "</table>\n",
              "</div>"
            ],
            "text/plain": [
              "          height      weight  ...  success_free_throws  avg_points_scored\n",
              "count  54.000000   54.000000  ...            54.000000          54.000000\n",
              "mean    6.587037  209.907407  ...             0.741852          11.790741\n",
              "std     0.458894   30.265036  ...             0.100146           5.899257\n",
              "min     5.700000  105.000000  ...             0.244000           2.800000\n",
              "25%     6.225000  185.000000  ...             0.713000           8.150000\n",
              "50%     6.650000  212.500000  ...             0.753500          10.750000\n",
              "75%     6.900000  235.000000  ...             0.795250          13.600000\n",
              "max     7.600000  263.000000  ...             0.900000          27.400000\n",
              "\n",
              "[8 rows x 5 columns]"
            ]
          },
          "metadata": {
            "tags": []
          },
          "execution_count": 14
        }
      ]
    },
    {
      "cell_type": "code",
      "metadata": {
        "colab": {
          "base_uri": "https://localhost:8080/"
        },
        "id": "2HTWik00fQd4",
        "outputId": "4517be01-d8f3-4349-cc54-2ab717e2de89"
      },
      "source": [
        "df_corr = b_data.corr().unstack()\n",
        "df_corr = df_corr[df_corr<1]\n",
        "df_corr.sort_values(ascending=False)\n",
        "df_corr"
      ],
      "execution_count": 18,
      "outputs": [
        {
          "output_type": "execute_result",
          "data": {
            "text/plain": [
              "height               weight                 0.834324\n",
              "                     success_field_goals    0.495546\n",
              "                     success_free_throws   -0.259271\n",
              "                     avg_points_scored     -0.068906\n",
              "weight               height                 0.834324\n",
              "                     success_field_goals    0.516051\n",
              "                     success_free_throws   -0.290159\n",
              "                     avg_points_scored     -0.009844\n",
              "success_field_goals  height                 0.495546\n",
              "                     weight                 0.516051\n",
              "                     success_free_throws   -0.018570\n",
              "                     avg_points_scored      0.338760\n",
              "success_free_throws  height                -0.259271\n",
              "                     weight                -0.290159\n",
              "                     success_field_goals   -0.018570\n",
              "                     avg_points_scored      0.244852\n",
              "avg_points_scored    height                -0.068906\n",
              "                     weight                -0.009844\n",
              "                     success_field_goals    0.338760\n",
              "                     success_free_throws    0.244852\n",
              "dtype: float64"
            ]
          },
          "metadata": {
            "tags": []
          },
          "execution_count": 18
        }
      ]
    },
    {
      "cell_type": "code",
      "metadata": {
        "id": "EMHh4TIEfQd5",
        "outputId": "3ab1366b-0266-4658-d415-862972a01e3f"
      },
      "source": [
        ""
      ],
      "execution_count": null,
      "outputs": [
        {
          "output_type": "execute_result",
          "data": {},
          "metadata": {
            "tags": []
          },
          "execution_count": 25
        }
      ]
    },
    {
      "cell_type": "markdown",
      "metadata": {
        "id": "xdEvlsMafQd5"
      },
      "source": [
        "Here the average points scored is taken as the dependent variable. We'll see how is the distribution of each of the variable w.r.t the dependent variable"
      ]
    },
    {
      "cell_type": "code",
      "metadata": {
        "colab": {
          "base_uri": "https://localhost:8080/",
          "height": 1000
        },
        "id": "krqTnOyZfQd6",
        "outputId": "2d516898-eab3-477b-cfc6-2ae89485ff20"
      },
      "source": [
        "X_columns = b_data.columns[:-1]\n",
        "\n",
        "for i in X_columns:\n",
        "    fig, ax = plt.subplots(1, 1)  \n",
        "    ax.scatter(b_data[i], b_data.avg_points_scored)\n",
        "    ax.set_xlabel(i)\n",
        "    ax.set_ylabel('Average points scored per game')\n",
        "    plt.show()"
      ],
      "execution_count": 19,
      "outputs": [
        {
          "output_type": "display_data",
          "data": {
            "image/png": "[encoded data removed]",
            "text/plain": [
              "<Figure size 432x288 with 1 Axes>"
            ]
          },
          "metadata": {
            "tags": [],
            "needs_background": "light"
          }
        },
        {
          "output_type": "display_data",
          "data": {
            "image/png": "[encoded data removed]",
            "text/plain": [
              "<Figure size 432x288 with 1 Axes>"
            ]
          },
          "metadata": {
            "tags": [],
            "needs_background": "light"
          }
        },
        {
          "output_type": "display_data",
          "data": {
            "image/png": "[encoded data removed]",
            "text/plain": [
              "<Figure size 432x288 with 1 Axes>"
            ]
          },
          "metadata": {
            "tags": [],
            "needs_background": "light"
          }
        },
        {
          "output_type": "display_data",
          "data": {
            "image/png": "[encoded data removed]",
            "text/plain": [
              "<Figure size 432x288 with 1 Axes>"
            ]
          },
          "metadata": {
            "tags": [],
            "needs_background": "light"
          }
        }
      ]
    },
    {
      "cell_type": "markdown",
      "metadata": {
        "id": "Gsi0MnosfQd7"
      },
      "source": [
        "Let's see how each of the variables are correlated with each other"
      ]
    },
    {
      "cell_type": "code",
      "metadata": {
        "colab": {
          "base_uri": "https://localhost:8080/",
          "height": 204
        },
        "id": "x5Ey-oE4fQd8",
        "outputId": "340fba4d-f1cb-4566-de20-93b380763cb7"
      },
      "source": [
        "b_data.corr()"
      ],
      "execution_count": 20,
      "outputs": [
        {
          "output_type": "execute_result",
          "data": {
            "text/html": [
              "<div>\n",
              "<style scoped>\n",
              "    .dataframe tbody tr th:only-of-type {\n",
              "        vertical-align: middle;\n",
              "    }\n",
              "\n",
              "    .dataframe tbody tr th {\n",
              "        vertical-align: top;\n",
              "    }\n",
              "\n",
              "    .dataframe thead th {\n",
              "        text-align: right;\n",
              "    }\n",
              "</style>\n",
              "<table border=\"1\" class=\"dataframe\">\n",
              "  <thead>\n",
              "    <tr style=\"text-align: right;\">\n",
              "      <th></th>\n",
              "      <th>height</th>\n",
              "      <th>weight</th>\n",
              "      <th>success_field_goals</th>\n",
              "      <th>success_free_throws</th>\n",
              "      <th>avg_points_scored</th>\n",
              "    </tr>\n",
              "  </thead>\n",
              "  <tbody>\n",
              "    <tr>\n",
              "      <th>height</th>\n",
              "      <td>1.000000</td>\n",
              "      <td>0.834324</td>\n",
              "      <td>0.495546</td>\n",
              "      <td>-0.259271</td>\n",
              "      <td>-0.068906</td>\n",
              "    </tr>\n",
              "    <tr>\n",
              "      <th>weight</th>\n",
              "      <td>0.834324</td>\n",
              "      <td>1.000000</td>\n",
              "      <td>0.516051</td>\n",
              "      <td>-0.290159</td>\n",
              "      <td>-0.009844</td>\n",
              "    </tr>\n",
              "    <tr>\n",
              "      <th>success_field_goals</th>\n",
              "      <td>0.495546</td>\n",
              "      <td>0.516051</td>\n",
              "      <td>1.000000</td>\n",
              "      <td>-0.018570</td>\n",
              "      <td>0.338760</td>\n",
              "    </tr>\n",
              "    <tr>\n",
              "      <th>success_free_throws</th>\n",
              "      <td>-0.259271</td>\n",
              "      <td>-0.290159</td>\n",
              "      <td>-0.018570</td>\n",
              "      <td>1.000000</td>\n",
              "      <td>0.244852</td>\n",
              "    </tr>\n",
              "    <tr>\n",
              "      <th>avg_points_scored</th>\n",
              "      <td>-0.068906</td>\n",
              "      <td>-0.009844</td>\n",
              "      <td>0.338760</td>\n",
              "      <td>0.244852</td>\n",
              "      <td>1.000000</td>\n",
              "    </tr>\n",
              "  </tbody>\n",
              "</table>\n",
              "</div>"
            ],
            "text/plain": [
              "                       height    weight  ...  success_free_throws  avg_points_scored\n",
              "height               1.000000  0.834324  ...            -0.259271          -0.068906\n",
              "weight               0.834324  1.000000  ...            -0.290159          -0.009844\n",
              "success_field_goals  0.495546  0.516051  ...            -0.018570           0.338760\n",
              "success_free_throws -0.259271 -0.290159  ...             1.000000           0.244852\n",
              "avg_points_scored   -0.068906 -0.009844  ...             0.244852           1.000000\n",
              "\n",
              "[5 rows x 5 columns]"
            ]
          },
          "metadata": {
            "tags": []
          },
          "execution_count": 20
        }
      ]
    },
    {
      "cell_type": "markdown",
      "metadata": {
        "id": "spccco_BfQd9"
      },
      "source": [
        "Let's split the data into train and test where the train set will be used to build the data and the model will be applied to the test set."
      ]
    },
    {
      "cell_type": "code",
      "metadata": {
        "id": "flZyp5pUfQd9"
      },
      "source": [
        "X = b_data.values.copy() \n",
        "X_train, X_valid, y_train, y_valid = train_test_split( X[:, :-1], X[:, -1], train_size=0.80)"
      ],
      "execution_count": 22,
      "outputs": []
    },
    {
      "cell_type": "markdown",
      "metadata": {
        "id": "dv3LdDFTfQd-"
      },
      "source": [
        "We'll generate a Linear Model with the given data "
      ]
    },
    {
      "cell_type": "code",
      "metadata": {
        "colab": {
          "base_uri": "https://localhost:8080/",
          "height": 541
        },
        "id": "oOy5BGbxfQd-",
        "outputId": "b7517d61-f01d-4689-b194-abd11606b7d7"
      },
      "source": [
        "result = sm.OLS( y_train, add_constant(X_train) ).fit()\n",
        "result.summary() "
      ],
      "execution_count": 25,
      "outputs": [
        {
          "output_type": "execute_result",
          "data": {
            "text/html": [
              "<table class=\"simpletable\">\n",
              "<caption>OLS Regression Results</caption>\n",
              "<tr>\n",
              "  <th>Dep. Variable:</th>            <td>y</td>        <th>  R-squared:         </th> <td>   0.199</td>\n",
              "</tr>\n",
              "<tr>\n",
              "  <th>Model:</th>                   <td>OLS</td>       <th>  Adj. R-squared:    </th> <td>   0.115</td>\n",
              "</tr>\n",
              "<tr>\n",
              "  <th>Method:</th>             <td>Least Squares</td>  <th>  F-statistic:       </th> <td>   2.363</td>\n",
              "</tr>\n",
              "<tr>\n",
              "  <th>Date:</th>             <td>Sun, 30 May 2021</td> <th>  Prob (F-statistic):</th>  <td>0.0703</td> \n",
              "</tr>\n",
              "<tr>\n",
              "  <th>Time:</th>                 <td>18:24:33</td>     <th>  Log-Likelihood:    </th> <td> -135.10</td>\n",
              "</tr>\n",
              "<tr>\n",
              "  <th>No. Observations:</th>      <td>    43</td>      <th>  AIC:               </th> <td>   280.2</td>\n",
              "</tr>\n",
              "<tr>\n",
              "  <th>Df Residuals:</th>          <td>    38</td>      <th>  BIC:               </th> <td>   289.0</td>\n",
              "</tr>\n",
              "<tr>\n",
              "  <th>Df Model:</th>              <td>     4</td>      <th>                     </th>     <td> </td>   \n",
              "</tr>\n",
              "<tr>\n",
              "  <th>Covariance Type:</th>      <td>nonrobust</td>    <th>                     </th>     <td> </td>   \n",
              "</tr>\n",
              "</table>\n",
              "<table class=\"simpletable\">\n",
              "<tr>\n",
              "    <td></td>       <th>coef</th>     <th>std err</th>      <th>t</th>      <th>P>|t|</th>  <th>[0.025</th>    <th>0.975]</th>  \n",
              "</tr>\n",
              "<tr>\n",
              "  <th>const</th> <td>    4.3735</td> <td>   19.346</td> <td>    0.226</td> <td> 0.822</td> <td>  -34.791</td> <td>   43.538</td>\n",
              "</tr>\n",
              "<tr>\n",
              "  <th>x1</th>    <td>   -3.1686</td> <td>    4.012</td> <td>   -0.790</td> <td> 0.435</td> <td>  -11.290</td> <td>    4.953</td>\n",
              "</tr>\n",
              "<tr>\n",
              "  <th>x2</th>    <td>   -0.0074</td> <td>    0.058</td> <td>   -0.127</td> <td> 0.900</td> <td>   -0.125</td> <td>    0.110</td>\n",
              "</tr>\n",
              "<tr>\n",
              "  <th>x3</th>    <td>   50.3908</td> <td>   18.487</td> <td>    2.726</td> <td> 0.010</td> <td>   12.965</td> <td>   87.816</td>\n",
              "</tr>\n",
              "<tr>\n",
              "  <th>x4</th>    <td>   10.2003</td> <td>    9.134</td> <td>    1.117</td> <td> 0.271</td> <td>   -8.290</td> <td>   28.690</td>\n",
              "</tr>\n",
              "</table>\n",
              "<table class=\"simpletable\">\n",
              "<tr>\n",
              "  <th>Omnibus:</th>       <td> 4.034</td> <th>  Durbin-Watson:     </th> <td>   1.976</td>\n",
              "</tr>\n",
              "<tr>\n",
              "  <th>Prob(Omnibus):</th> <td> 0.133</td> <th>  Jarque-Bera (JB):  </th> <td>   3.622</td>\n",
              "</tr>\n",
              "<tr>\n",
              "  <th>Skew:</th>          <td> 0.707</td> <th>  Prob(JB):          </th> <td>   0.163</td>\n",
              "</tr>\n",
              "<tr>\n",
              "  <th>Kurtosis:</th>      <td> 2.854</td> <th>  Cond. No.          </th> <td>4.81e+03</td>\n",
              "</tr>\n",
              "</table><br/><br/>Warnings:<br/>[1] Standard Errors assume that the covariance matrix of the errors is correctly specified.<br/>[2] The condition number is large, 4.81e+03. This might indicate that there are<br/>strong multicollinearity or other numerical problems."
            ],
            "text/plain": [
              "<class 'statsmodels.iolib.summary.Summary'>\n",
              "\"\"\"\n",
              "                            OLS Regression Results                            \n",
              "==============================================================================\n",
              "Dep. Variable:                      y   R-squared:                       0.199\n",
              "Model:                            OLS   Adj. R-squared:                  0.115\n",
              "Method:                 Least Squares   F-statistic:                     2.363\n",
              "Date:                Sun, 30 May 2021   Prob (F-statistic):             0.0703\n",
              "Time:                        18:24:33   Log-Likelihood:                -135.10\n",
              "No. Observations:                  43   AIC:                             280.2\n",
              "Df Residuals:                      38   BIC:                             289.0\n",
              "Df Model:                           4                                         \n",
              "Covariance Type:            nonrobust                                         \n",
              "==============================================================================\n",
              "                 coef    std err          t      P>|t|      [0.025      0.975]\n",
              "------------------------------------------------------------------------------\n",
              "const          4.3735     19.346      0.226      0.822     -34.791      43.538\n",
              "x1            -3.1686      4.012     -0.790      0.435     -11.290       4.953\n",
              "x2            -0.0074      0.058     -0.127      0.900      -0.125       0.110\n",
              "x3            50.3908     18.487      2.726      0.010      12.965      87.816\n",
              "x4            10.2003      9.134      1.117      0.271      -8.290      28.690\n",
              "==============================================================================\n",
              "Omnibus:                        4.034   Durbin-Watson:                   1.976\n",
              "Prob(Omnibus):                  0.133   Jarque-Bera (JB):                3.622\n",
              "Skew:                           0.707   Prob(JB):                        0.163\n",
              "Kurtosis:                       2.854   Cond. No.                     4.81e+03\n",
              "==============================================================================\n",
              "\n",
              "Warnings:\n",
              "[1] Standard Errors assume that the covariance matrix of the errors is correctly specified.\n",
              "[2] The condition number is large, 4.81e+03. This might indicate that there are\n",
              "strong multicollinearity or other numerical problems.\n",
              "\"\"\""
            ]
          },
          "metadata": {
            "tags": []
          },
          "execution_count": 25
        }
      ]
    },
    {
      "cell_type": "markdown",
      "metadata": {
        "id": "ys-5pehZfQd_"
      },
      "source": [
        "Since the 3rd variable is significant and the others aren't based on the pvalue. We'll recreate the model only using that variable."
      ]
    },
    {
      "cell_type": "code",
      "metadata": {
        "colab": {
          "base_uri": "https://localhost:8080/",
          "height": 444
        },
        "id": "JQDpTgxXfQeA",
        "outputId": "b78ba684-0ff6-4d13-ca63-f4d70c65299a"
      },
      "source": [
        "result_alternate = sm.OLS( y_train, add_constant(X_train[:,2]) ).fit()\n",
        "result_alternate.summary()"
      ],
      "execution_count": 26,
      "outputs": [
        {
          "output_type": "execute_result",
          "data": {
            "text/html": [
              "<table class=\"simpletable\">\n",
              "<caption>OLS Regression Results</caption>\n",
              "<tr>\n",
              "  <th>Dep. Variable:</th>            <td>y</td>        <th>  R-squared:         </th> <td>   0.110</td>\n",
              "</tr>\n",
              "<tr>\n",
              "  <th>Model:</th>                   <td>OLS</td>       <th>  Adj. R-squared:    </th> <td>   0.088</td>\n",
              "</tr>\n",
              "<tr>\n",
              "  <th>Method:</th>             <td>Least Squares</td>  <th>  F-statistic:       </th> <td>   5.073</td>\n",
              "</tr>\n",
              "<tr>\n",
              "  <th>Date:</th>             <td>Sun, 30 May 2021</td> <th>  Prob (F-statistic):</th>  <td>0.0297</td> \n",
              "</tr>\n",
              "<tr>\n",
              "  <th>Time:</th>                 <td>18:24:41</td>     <th>  Log-Likelihood:    </th> <td> -137.36</td>\n",
              "</tr>\n",
              "<tr>\n",
              "  <th>No. Observations:</th>      <td>    43</td>      <th>  AIC:               </th> <td>   278.7</td>\n",
              "</tr>\n",
              "<tr>\n",
              "  <th>Df Residuals:</th>          <td>    41</td>      <th>  BIC:               </th> <td>   282.3</td>\n",
              "</tr>\n",
              "<tr>\n",
              "  <th>Df Model:</th>              <td>     1</td>      <th>                     </th>     <td> </td>   \n",
              "</tr>\n",
              "<tr>\n",
              "  <th>Covariance Type:</th>      <td>nonrobust</td>    <th>                     </th>     <td> </td>   \n",
              "</tr>\n",
              "</table>\n",
              "<table class=\"simpletable\">\n",
              "<tr>\n",
              "    <td></td>       <th>coef</th>     <th>std err</th>      <th>t</th>      <th>P>|t|</th>  <th>[0.025</th>    <th>0.975]</th>  \n",
              "</tr>\n",
              "<tr>\n",
              "  <th>const</th> <td>   -3.9116</td> <td>    7.147</td> <td>   -0.547</td> <td> 0.587</td> <td>  -18.345</td> <td>   10.522</td>\n",
              "</tr>\n",
              "<tr>\n",
              "  <th>x1</th>    <td>   35.4307</td> <td>   15.731</td> <td>    2.252</td> <td> 0.030</td> <td>    3.662</td> <td>   67.200</td>\n",
              "</tr>\n",
              "</table>\n",
              "<table class=\"simpletable\">\n",
              "<tr>\n",
              "  <th>Omnibus:</th>       <td> 4.138</td> <th>  Durbin-Watson:     </th> <td>   2.052</td>\n",
              "</tr>\n",
              "<tr>\n",
              "  <th>Prob(Omnibus):</th> <td> 0.126</td> <th>  Jarque-Bera (JB):  </th> <td>   3.668</td>\n",
              "</tr>\n",
              "<tr>\n",
              "  <th>Skew:</th>          <td> 0.714</td> <th>  Prob(JB):          </th> <td>   0.160</td>\n",
              "</tr>\n",
              "<tr>\n",
              "  <th>Kurtosis:</th>      <td> 2.901</td> <th>  Cond. No.          </th> <td>    20.5</td>\n",
              "</tr>\n",
              "</table><br/><br/>Warnings:<br/>[1] Standard Errors assume that the covariance matrix of the errors is correctly specified."
            ],
            "text/plain": [
              "<class 'statsmodels.iolib.summary.Summary'>\n",
              "\"\"\"\n",
              "                            OLS Regression Results                            \n",
              "==============================================================================\n",
              "Dep. Variable:                      y   R-squared:                       0.110\n",
              "Model:                            OLS   Adj. R-squared:                  0.088\n",
              "Method:                 Least Squares   F-statistic:                     5.073\n",
              "Date:                Sun, 30 May 2021   Prob (F-statistic):             0.0297\n",
              "Time:                        18:24:41   Log-Likelihood:                -137.36\n",
              "No. Observations:                  43   AIC:                             278.7\n",
              "Df Residuals:                      41   BIC:                             282.3\n",
              "Df Model:                           1                                         \n",
              "Covariance Type:            nonrobust                                         \n",
              "==============================================================================\n",
              "                 coef    std err          t      P>|t|      [0.025      0.975]\n",
              "------------------------------------------------------------------------------\n",
              "const         -3.9116      7.147     -0.547      0.587     -18.345      10.522\n",
              "x1            35.4307     15.731      2.252      0.030       3.662      67.200\n",
              "==============================================================================\n",
              "Omnibus:                        4.138   Durbin-Watson:                   2.052\n",
              "Prob(Omnibus):                  0.126   Jarque-Bera (JB):                3.668\n",
              "Skew:                           0.714   Prob(JB):                        0.160\n",
              "Kurtosis:                       2.901   Cond. No.                         20.5\n",
              "==============================================================================\n",
              "\n",
              "Warnings:\n",
              "[1] Standard Errors assume that the covariance matrix of the errors is correctly specified.\n",
              "\"\"\""
            ]
          },
          "metadata": {
            "tags": []
          },
          "execution_count": 26
        }
      ]
    },
    {
      "cell_type": "markdown",
      "metadata": {
        "id": "8YeNVXxtfQeA"
      },
      "source": [
        "Lets predict on the test data and see how much is the error "
      ]
    },
    {
      "cell_type": "code",
      "metadata": {
        "colab": {
          "base_uri": "https://localhost:8080/"
        },
        "id": "WKTMJlQ8fQeF",
        "outputId": "9a7bbca7-d182-4897-d593-24c123310500"
      },
      "source": [
        "ypred = result.predict(add_constant(X_valid))\n",
        "print (mse(ypred,y_valid))\n",
        "\n",
        "ypred_alternate = result_alternate.predict(add_constant(X_valid[:, 2]))\n",
        "print (mse(ypred_alternate,y_valid))\n"
      ],
      "execution_count": 28,
      "outputs": [
        {
          "output_type": "stream",
          "text": [
            "8.864621532917898\n",
            "12.403083508792902\n"
          ],
          "name": "stdout"
        }
      ]
    },
    {
      "cell_type": "markdown",
      "metadata": {
        "id": "qKutR4W3fQeF"
      },
      "source": [
        "Lets see the actual vs predicted for the 1st model"
      ]
    },
    {
      "cell_type": "code",
      "metadata": {
        "colab": {
          "base_uri": "https://localhost:8080/",
          "height": 279
        },
        "id": "4jeZhhzJfQeG",
        "outputId": "27e6a827-b1f1-45e8-805b-2a99a4a37091"
      },
      "source": [
        "fig, ax = plt.subplots(1, 1)  \n",
        "ax.scatter(y_valid, ypred)\n",
        "ax.set_xlabel('Actual')\n",
        "ax.set_ylabel('Predicted')\n",
        "plt.show()"
      ],
      "execution_count": 29,
      "outputs": [
        {
          "output_type": "display_data",
          "data": {
            "image/png": "[encoded data removed]",
            "text/plain": [
              "<Figure size 432x288 with 1 Axes>"
            ]
          },
          "metadata": {
            "tags": [],
            "needs_background": "light"
          }
        }
      ]
    },
    {
      "cell_type": "markdown",
      "metadata": {
        "id": "X10fiGR4fQeG"
      },
      "source": [
        "Same plot for the 2nd plot"
      ]
    },
    {
      "cell_type": "code",
      "metadata": {
        "colab": {
          "base_uri": "https://localhost:8080/",
          "height": 279
        },
        "id": "jKdwhutRfQeH",
        "outputId": "80c35b0f-ac11-4149-f476-2dd028538337"
      },
      "source": [
        "fig, ax = plt.subplots(1, 1)  \n",
        "ax.scatter(y_valid, ypred_alternate)\n",
        "ax.set_xlabel('Actual')\n",
        "ax.set_ylabel('Predicted')\n",
        "plt.show()"
      ],
      "execution_count": 30,
      "outputs": [
        {
          "output_type": "display_data",
          "data": {
            "image/png": "[encoded data removed]",
            "text/plain": [
              "<Figure size 432x288 with 1 Axes>"
            ]
          },
          "metadata": {
            "tags": [],
            "needs_background": "light"
          }
        }
      ]
    },
    {
      "cell_type": "code",
      "metadata": {
        "colab": {
          "base_uri": "https://localhost:8080/",
          "height": 207
        },
        "id": "hbd3LZMgfQeH",
        "outputId": "2cc423f8-93d5-4c27-bf8b-75ea4fe68dd7"
      },
      "source": [
        "# Create linear regression object\n",
        "lm = linear_model.LinearRegression()\n",
        "\n",
        "# Train the model using the training sets\n",
        "lm.fit(X_train, y_train)\n",
        "\n",
        "print ('Intercept is ' + str(lm.intercept_) + '\\n')\n",
        "\n",
        "pd.DataFrame(zip(b_data.columns,lm.coef_), columns = ['features', 'estimatedCoefficients'])"
      ],
      "execution_count": 32,
      "outputs": [
        {
          "output_type": "stream",
          "text": [
            "Intercept is 4.373512356168816\n",
            "\n"
          ],
          "name": "stdout"
        },
        {
          "output_type": "execute_result",
          "data": {
            "text/html": [
              "<div>\n",
              "<style scoped>\n",
              "    .dataframe tbody tr th:only-of-type {\n",
              "        vertical-align: middle;\n",
              "    }\n",
              "\n",
              "    .dataframe tbody tr th {\n",
              "        vertical-align: top;\n",
              "    }\n",
              "\n",
              "    .dataframe thead th {\n",
              "        text-align: right;\n",
              "    }\n",
              "</style>\n",
              "<table border=\"1\" class=\"dataframe\">\n",
              "  <thead>\n",
              "    <tr style=\"text-align: right;\">\n",
              "      <th></th>\n",
              "      <th>features</th>\n",
              "      <th>estimatedCoefficients</th>\n",
              "    </tr>\n",
              "  </thead>\n",
              "  <tbody>\n",
              "    <tr>\n",
              "      <th>0</th>\n",
              "      <td>height</td>\n",
              "      <td>-3.168571</td>\n",
              "    </tr>\n",
              "    <tr>\n",
              "      <th>1</th>\n",
              "      <td>weight</td>\n",
              "      <td>-0.007376</td>\n",
              "    </tr>\n",
              "    <tr>\n",
              "      <th>2</th>\n",
              "      <td>success_field_goals</td>\n",
              "      <td>50.390793</td>\n",
              "    </tr>\n",
              "    <tr>\n",
              "      <th>3</th>\n",
              "      <td>success_free_throws</td>\n",
              "      <td>10.200324</td>\n",
              "    </tr>\n",
              "  </tbody>\n",
              "</table>\n",
              "</div>"
            ],
            "text/plain": [
              "              features  estimatedCoefficients\n",
              "0               height              -3.168571\n",
              "1               weight              -0.007376\n",
              "2  success_field_goals              50.390793\n",
              "3  success_free_throws              10.200324"
            ]
          },
          "metadata": {
            "tags": []
          },
          "execution_count": 32
        }
      ]
    },
    {
      "cell_type": "markdown",
      "metadata": {
        "id": "l7_-VukFfQeH"
      },
      "source": [
        "Lets see how is the R square"
      ]
    },
    {
      "cell_type": "code",
      "metadata": {
        "colab": {
          "base_uri": "https://localhost:8080/"
        },
        "id": "1rNwS8eVfQeI",
        "outputId": "a33030d9-5154-48f3-f7b9-27468a834735"
      },
      "source": [
        "cross_val_score(lm, X_train, y_train, scoring='r2')"
      ],
      "execution_count": 36,
      "outputs": [
        {
          "output_type": "execute_result",
          "data": {
            "text/plain": [
              "array([-8.64138790e+00,  8.28733094e-03, -1.52438220e+00,  4.97802786e-02,\n",
              "       -1.86716269e-01])"
            ]
          },
          "metadata": {
            "tags": []
          },
          "execution_count": 36
        }
      ]
    },
    {
      "cell_type": "markdown",
      "metadata": {
        "id": "95xfpYGWfQeI"
      },
      "source": [
        "Lets predict the on the test data"
      ]
    },
    {
      "cell_type": "code",
      "metadata": {
        "colab": {
          "base_uri": "https://localhost:8080/"
        },
        "id": "4IoWYWNjfQeI",
        "outputId": "8c40372a-daba-413b-b4d5-7bc3a561d3b5"
      },
      "source": [
        "ypred = lm.predict(X_valid)\n",
        "\n",
        "mean_squared_error(ypred,y_valid)"
      ],
      "execution_count": 37,
      "outputs": [
        {
          "output_type": "execute_result",
          "data": {
            "text/plain": [
              "8.864621532917173"
            ]
          },
          "metadata": {
            "tags": []
          },
          "execution_count": 37
        }
      ]
    },
    {
      "cell_type": "markdown",
      "metadata": {
        "id": "6M111iuzfQeJ"
      },
      "source": [
        "Plotting the predicted vs the actual"
      ]
    },
    {
      "cell_type": "code",
      "metadata": {
        "colab": {
          "base_uri": "https://localhost:8080/",
          "height": 279
        },
        "id": "JO7biKhzfQeK",
        "outputId": "68ee408b-306a-4d34-c170-cb4a545f1969"
      },
      "source": [
        "fig, ax = plt.subplots(1, 1)  \n",
        "ax.scatter(y_valid, ypred)\n",
        "ax.set_xlabel('Actual')\n",
        "ax.set_ylabel('Predicted')\n",
        "plt.show()"
      ],
      "execution_count": 38,
      "outputs": [
        {
          "output_type": "display_data",
          "data": {
            "image/png": "[encoded data removed]",
            "text/plain": [
              "<Figure size 432x288 with 1 Axes>"
            ]
          },
          "metadata": {
            "tags": [],
            "needs_background": "light"
          }
        }
      ]
    }
  ]
}